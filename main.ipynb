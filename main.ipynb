{
 "cells": [
  {
   "cell_type": "code",
   "execution_count": 1,
   "id": "43a754fe",
   "metadata": {},
   "outputs": [],
   "source": [
    "# Basic libraries\n",
    "import pandas as pd\n",
    "import numpy as np\n",
    "import matplotlib.pyplot as plt\n",
    "import seaborn as sns\n",
    "import plotly.express as px\n",
    "\n",
    "# Deep learning & graph\n",
    "import torch\n",
    "import torch.nn as nn\n",
    "import torch.optim as optim\n",
    "import torch.nn.functional as F\n",
    "\n",
    "# RDKit\n",
    "from rdkit import Chem\n",
    "from rdkit.Chem import AllChem\n"
   ]
  },
  {
   "cell_type": "code",
   "execution_count": 2,
   "id": "1f1844fd",
   "metadata": {},
   "outputs": [
    {
     "name": "stderr",
     "output_type": "stream",
     "text": [
      "[13:03:26] WARNING: not removing hydrogen atom without neighbors\n"
     ]
    }
   ],
   "source": [
    "# Load Tox21 data\n",
    "df = pd.read_csv(\"tox21.csv\")  # Ensure this file is uploaded in your Colab environment\n",
    "df = df[['smiles', 'SR-HSE']].dropna()\n",
    "\n",
    "# Updated Morgan Fingerprint Generator\n",
    "from rdkit.Chem.rdFingerprintGenerator import GetMorganGenerator\n",
    "\n",
    "generator = GetMorganGenerator(radius=2, fpSize=1024)\n",
    "\n",
    "def mol_to_fp(smiles):\n",
    "    mol = Chem.MolFromSmiles(smiles)\n",
    "    if mol:\n",
    "        return np.array(generator.GetFingerprint(mol))\n",
    "    return None\n",
    "\n",
    "# Convert SMILES to fingerprints\n",
    "fps, labels = [], []\n",
    "for _, row in df.iterrows():\n",
    "    fp = mol_to_fp(row['smiles'])\n",
    "    if fp is not None:\n",
    "        fps.append(fp)\n",
    "        labels.append(row['SR-HSE'])\n",
    "\n",
    "X, y = np.array(fps), np.array(labels)\n"
   ]
  },
  {
   "cell_type": "code",
   "execution_count": 3,
   "id": "bbd5aeb9",
   "metadata": {},
   "outputs": [],
   "source": [
    "from sklearn.model_selection import train_test_split\n",
    "from sklearn.utils.class_weight import compute_class_weight\n",
    "\n",
    "X_train, X_test, y_train, y_test = train_test_split(X, y, test_size=0.2, stratify=y, random_state=42)\n",
    "\n",
    "classes = np.unique(y_train)\n",
    "weights = compute_class_weight(class_weight=\"balanced\", classes=classes, y=y_train)\n",
    "pos_weight = torch.tensor(weights[1] / weights[0])\n"
   ]
  },
  {
   "cell_type": "code",
   "execution_count": 4,
   "id": "d0d532aa",
   "metadata": {},
   "outputs": [
    {
     "name": "stdout",
     "output_type": "stream",
     "text": [
      "Epoch 1: Loss = 1.3065\n",
      "Epoch 2: Loss = 1.2969\n",
      "Epoch 3: Loss = 1.2842\n",
      "Epoch 4: Loss = 1.2674\n",
      "Epoch 5: Loss = 1.2448\n",
      "Epoch 6: Loss = 1.2137\n",
      "Epoch 7: Loss = 1.1772\n",
      "Epoch 8: Loss = 1.1343\n",
      "Epoch 9: Loss = 1.0832\n",
      "Epoch 10: Loss = 1.0278\n",
      "Epoch 11: Loss = 0.9664\n",
      "Epoch 12: Loss = 0.9063\n",
      "Epoch 13: Loss = 0.8500\n",
      "Epoch 14: Loss = 0.7909\n",
      "Epoch 15: Loss = 0.7270\n",
      "Epoch 16: Loss = 0.6784\n",
      "Epoch 17: Loss = 0.6211\n",
      "Epoch 18: Loss = 0.5691\n",
      "Epoch 19: Loss = 0.5257\n",
      "Epoch 20: Loss = 0.4756\n",
      "Epoch 21: Loss = 0.4371\n",
      "Epoch 22: Loss = 0.3983\n",
      "Epoch 23: Loss = 0.3618\n",
      "Epoch 24: Loss = 0.3357\n",
      "Epoch 25: Loss = 0.3059\n",
      "Epoch 26: Loss = 0.2791\n",
      "Epoch 27: Loss = 0.2531\n",
      "Epoch 28: Loss = 0.2352\n",
      "Epoch 29: Loss = 0.2114\n",
      "Epoch 30: Loss = 0.1910\n"
     ]
    }
   ],
   "source": [
    "class ToxicityNet(nn.Module):\n",
    "    def __init__(self):\n",
    "        super(ToxicityNet, self).__init__()\n",
    "        self.model = nn.Sequential(\n",
    "            nn.Linear(1024, 512),\n",
    "            nn.ReLU(),\n",
    "            nn.Dropout(0.3),\n",
    "            nn.Linear(512, 128),\n",
    "            nn.ReLU(),\n",
    "            nn.Linear(128, 1)\n",
    "        )\n",
    "\n",
    "    def forward(self, x):\n",
    "        return self.model(x)\n",
    "\n",
    "# Prepare tensors\n",
    "X_train_tensor = torch.tensor(X_train).float()\n",
    "y_train_tensor = torch.tensor(y_train).float().unsqueeze(1)\n",
    "X_test_tensor = torch.tensor(X_test).float()\n",
    "y_test_tensor = torch.tensor(y_test).float().unsqueeze(1)\n",
    "\n",
    "# Training loop\n",
    "model = ToxicityNet()\n",
    "criterion = nn.BCEWithLogitsLoss(pos_weight=pos_weight)\n",
    "optimizer = optim.Adam(model.parameters(), lr=0.001)\n",
    "\n",
    "for epoch in range(30):\n",
    "    model.train()\n",
    "    optimizer.zero_grad()\n",
    "    output = model(X_train_tensor)\n",
    "    loss = criterion(output, y_train_tensor)\n",
    "    loss.backward()\n",
    "    optimizer.step()\n",
    "    print(f\"Epoch {epoch+1}: Loss = {loss.item():.4f}\")\n",
    "\n",
    "torch.save(model.state_dict(), \"tox_model.pt\")\n"
   ]
  },
  {
   "cell_type": "code",
   "execution_count": 5,
   "id": "ed7b8671",
   "metadata": {},
   "outputs": [
    {
     "name": "stdout",
     "output_type": "stream",
     "text": [
      "Accuracy: 0.9011, ROC-AUC: 0.6676\n"
     ]
    },
    {
     "data": {
      "application/vnd.plotly.v1+json": {
       "config": {
        "plotlyServerURL": "https://plot.ly"
       },
       "data": [
        {
         "bingroup": "x",
         "hovertemplate": "color=0.0<br>Predicted Probability=%{x}<br>count=%{y}<extra></extra>",
         "legendgroup": "0.0",
         "marker": {
          "color": "#636efa",
          "opacity": 0.5,
          "pattern": {
           "shape": ""
          }
         },
         "name": "0.0",
         "orientation": "v",
         "showlegend": true,
         "type": "histogram",
         "x": {
          "bdata": "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",
          "dtype": "f4"
         },
         "xaxis": "x",
         "yaxis": "y"
        },
        {
         "bingroup": "x",
         "hovertemplate": "color=1.0<br>Predicted Probability=%{x}<br>count=%{y}<extra></extra>",
         "legendgroup": "1.0",
         "marker": {
          "color": "#EF553B",
          "opacity": 0.5,
          "pattern": {
           "shape": ""
          }
         },
         "name": "1.0",
         "orientation": "v",
         "showlegend": true,
         "type": "histogram",
         "x": {
          "bdata": "IM53PWrDTT9yOkg6fQQdP0tw6zgVRTo+Y2iRPhFt6jeFpqY7V9F/PxqxKTmqfbo4qAhGPw4ymjQeJmQ/lhEHPmUb1Du3vYk+H3NrO9bjPz2h5w8+f8M2P7Yw+ziU+GM9YHmxPiEHeT8axQU/LRvEPqvZUj39VMY72vZ4P0kFVjw5ge89D+w8P6E7dT/tnIU6ihf0O7Z8sD72g24/y3X8O4A4pzqjdaQ5RFAlPVr4fz/eJQY/6fKxPQnl3j7KdL468aN9PzA2hzvFk403mshbO+LHOT0X7n8/Dxt9Px0pVD9KFaw295JZPSANlTbAHYQ+OKSUPMBGdT+8IDM/B9QCOZ5bED2YelI/cs52P49X7j0IrLg449KKPZtFrj6L6H04VgJ8P8xwKj8=",
          "dtype": "f4"
         },
         "xaxis": "x",
         "yaxis": "y"
        }
       ],
       "layout": {
        "barmode": "overlay",
        "legend": {
         "title": {
          "text": "color"
         },
         "tracegroupgap": 0
        },
        "template": {
         "data": {
          "bar": [
           {
            "error_x": {
             "color": "#2a3f5f"
            },
            "error_y": {
             "color": "#2a3f5f"
            },
            "marker": {
             "line": {
              "color": "#E5ECF6",
              "width": 0.5
             },
             "pattern": {
              "fillmode": "overlay",
              "size": 10,
              "solidity": 0.2
             }
            },
            "type": "bar"
           }
          ],
          "barpolar": [
           {
            "marker": {
             "line": {
              "color": "#E5ECF6",
              "width": 0.5
             },
             "pattern": {
              "fillmode": "overlay",
              "size": 10,
              "solidity": 0.2
             }
            },
            "type": "barpolar"
           }
          ],
          "carpet": [
           {
            "aaxis": {
             "endlinecolor": "#2a3f5f",
             "gridcolor": "white",
             "linecolor": "white",
             "minorgridcolor": "white",
             "startlinecolor": "#2a3f5f"
            },
            "baxis": {
             "endlinecolor": "#2a3f5f",
             "gridcolor": "white",
             "linecolor": "white",
             "minorgridcolor": "white",
             "startlinecolor": "#2a3f5f"
            },
            "type": "carpet"
           }
          ],
          "choropleth": [
           {
            "colorbar": {
             "outlinewidth": 0,
             "ticks": ""
            },
            "type": "choropleth"
           }
          ],
          "contour": [
           {
            "colorbar": {
             "outlinewidth": 0,
             "ticks": ""
            },
            "colorscale": [
             [
              0,
              "#0d0887"
             ],
             [
              0.1111111111111111,
              "#46039f"
             ],
             [
              0.2222222222222222,
              "#7201a8"
             ],
             [
              0.3333333333333333,
              "#9c179e"
             ],
             [
              0.4444444444444444,
              "#bd3786"
             ],
             [
              0.5555555555555556,
              "#d8576b"
             ],
             [
              0.6666666666666666,
              "#ed7953"
             ],
             [
              0.7777777777777778,
              "#fb9f3a"
             ],
             [
              0.8888888888888888,
              "#fdca26"
             ],
             [
              1,
              "#f0f921"
             ]
            ],
            "type": "contour"
           }
          ],
          "contourcarpet": [
           {
            "colorbar": {
             "outlinewidth": 0,
             "ticks": ""
            },
            "type": "contourcarpet"
           }
          ],
          "heatmap": [
           {
            "colorbar": {
             "outlinewidth": 0,
             "ticks": ""
            },
            "colorscale": [
             [
              0,
              "#0d0887"
             ],
             [
              0.1111111111111111,
              "#46039f"
             ],
             [
              0.2222222222222222,
              "#7201a8"
             ],
             [
              0.3333333333333333,
              "#9c179e"
             ],
             [
              0.4444444444444444,
              "#bd3786"
             ],
             [
              0.5555555555555556,
              "#d8576b"
             ],
             [
              0.6666666666666666,
              "#ed7953"
             ],
             [
              0.7777777777777778,
              "#fb9f3a"
             ],
             [
              0.8888888888888888,
              "#fdca26"
             ],
             [
              1,
              "#f0f921"
             ]
            ],
            "type": "heatmap"
           }
          ],
          "histogram": [
           {
            "marker": {
             "pattern": {
              "fillmode": "overlay",
              "size": 10,
              "solidity": 0.2
             }
            },
            "type": "histogram"
           }
          ],
          "histogram2d": [
           {
            "colorbar": {
             "outlinewidth": 0,
             "ticks": ""
            },
            "colorscale": [
             [
              0,
              "#0d0887"
             ],
             [
              0.1111111111111111,
              "#46039f"
             ],
             [
              0.2222222222222222,
              "#7201a8"
             ],
             [
              0.3333333333333333,
              "#9c179e"
             ],
             [
              0.4444444444444444,
              "#bd3786"
             ],
             [
              0.5555555555555556,
              "#d8576b"
             ],
             [
              0.6666666666666666,
              "#ed7953"
             ],
             [
              0.7777777777777778,
              "#fb9f3a"
             ],
             [
              0.8888888888888888,
              "#fdca26"
             ],
             [
              1,
              "#f0f921"
             ]
            ],
            "type": "histogram2d"
           }
          ],
          "histogram2dcontour": [
           {
            "colorbar": {
             "outlinewidth": 0,
             "ticks": ""
            },
            "colorscale": [
             [
              0,
              "#0d0887"
             ],
             [
              0.1111111111111111,
              "#46039f"
             ],
             [
              0.2222222222222222,
              "#7201a8"
             ],
             [
              0.3333333333333333,
              "#9c179e"
             ],
             [
              0.4444444444444444,
              "#bd3786"
             ],
             [
              0.5555555555555556,
              "#d8576b"
             ],
             [
              0.6666666666666666,
              "#ed7953"
             ],
             [
              0.7777777777777778,
              "#fb9f3a"
             ],
             [
              0.8888888888888888,
              "#fdca26"
             ],
             [
              1,
              "#f0f921"
             ]
            ],
            "type": "histogram2dcontour"
           }
          ],
          "mesh3d": [
           {
            "colorbar": {
             "outlinewidth": 0,
             "ticks": ""
            },
            "type": "mesh3d"
           }
          ],
          "parcoords": [
           {
            "line": {
             "colorbar": {
              "outlinewidth": 0,
              "ticks": ""
             }
            },
            "type": "parcoords"
           }
          ],
          "pie": [
           {
            "automargin": true,
            "type": "pie"
           }
          ],
          "scatter": [
           {
            "fillpattern": {
             "fillmode": "overlay",
             "size": 10,
             "solidity": 0.2
            },
            "type": "scatter"
           }
          ],
          "scatter3d": [
           {
            "line": {
             "colorbar": {
              "outlinewidth": 0,
              "ticks": ""
             }
            },
            "marker": {
             "colorbar": {
              "outlinewidth": 0,
              "ticks": ""
             }
            },
            "type": "scatter3d"
           }
          ],
          "scattercarpet": [
           {
            "marker": {
             "colorbar": {
              "outlinewidth": 0,
              "ticks": ""
             }
            },
            "type": "scattercarpet"
           }
          ],
          "scattergeo": [
           {
            "marker": {
             "colorbar": {
              "outlinewidth": 0,
              "ticks": ""
             }
            },
            "type": "scattergeo"
           }
          ],
          "scattergl": [
           {
            "marker": {
             "colorbar": {
              "outlinewidth": 0,
              "ticks": ""
             }
            },
            "type": "scattergl"
           }
          ],
          "scattermap": [
           {
            "marker": {
             "colorbar": {
              "outlinewidth": 0,
              "ticks": ""
             }
            },
            "type": "scattermap"
           }
          ],
          "scattermapbox": [
           {
            "marker": {
             "colorbar": {
              "outlinewidth": 0,
              "ticks": ""
             }
            },
            "type": "scattermapbox"
           }
          ],
          "scatterpolar": [
           {
            "marker": {
             "colorbar": {
              "outlinewidth": 0,
              "ticks": ""
             }
            },
            "type": "scatterpolar"
           }
          ],
          "scatterpolargl": [
           {
            "marker": {
             "colorbar": {
              "outlinewidth": 0,
              "ticks": ""
             }
            },
            "type": "scatterpolargl"
           }
          ],
          "scatterternary": [
           {
            "marker": {
             "colorbar": {
              "outlinewidth": 0,
              "ticks": ""
             }
            },
            "type": "scatterternary"
           }
          ],
          "surface": [
           {
            "colorbar": {
             "outlinewidth": 0,
             "ticks": ""
            },
            "colorscale": [
             [
              0,
              "#0d0887"
             ],
             [
              0.1111111111111111,
              "#46039f"
             ],
             [
              0.2222222222222222,
              "#7201a8"
             ],
             [
              0.3333333333333333,
              "#9c179e"
             ],
             [
              0.4444444444444444,
              "#bd3786"
             ],
             [
              0.5555555555555556,
              "#d8576b"
             ],
             [
              0.6666666666666666,
              "#ed7953"
             ],
             [
              0.7777777777777778,
              "#fb9f3a"
             ],
             [
              0.8888888888888888,
              "#fdca26"
             ],
             [
              1,
              "#f0f921"
             ]
            ],
            "type": "surface"
           }
          ],
          "table": [
           {
            "cells": {
             "fill": {
              "color": "#EBF0F8"
             },
             "line": {
              "color": "white"
             }
            },
            "header": {
             "fill": {
              "color": "#C8D4E3"
             },
             "line": {
              "color": "white"
             }
            },
            "type": "table"
           }
          ]
         },
         "layout": {
          "annotationdefaults": {
           "arrowcolor": "#2a3f5f",
           "arrowhead": 0,
           "arrowwidth": 1
          },
          "autotypenumbers": "strict",
          "coloraxis": {
           "colorbar": {
            "outlinewidth": 0,
            "ticks": ""
           }
          },
          "colorscale": {
           "diverging": [
            [
             0,
             "#8e0152"
            ],
            [
             0.1,
             "#c51b7d"
            ],
            [
             0.2,
             "#de77ae"
            ],
            [
             0.3,
             "#f1b6da"
            ],
            [
             0.4,
             "#fde0ef"
            ],
            [
             0.5,
             "#f7f7f7"
            ],
            [
             0.6,
             "#e6f5d0"
            ],
            [
             0.7,
             "#b8e186"
            ],
            [
             0.8,
             "#7fbc41"
            ],
            [
             0.9,
             "#4d9221"
            ],
            [
             1,
             "#276419"
            ]
           ],
           "sequential": [
            [
             0,
             "#0d0887"
            ],
            [
             0.1111111111111111,
             "#46039f"
            ],
            [
             0.2222222222222222,
             "#7201a8"
            ],
            [
             0.3333333333333333,
             "#9c179e"
            ],
            [
             0.4444444444444444,
             "#bd3786"
            ],
            [
             0.5555555555555556,
             "#d8576b"
            ],
            [
             0.6666666666666666,
             "#ed7953"
            ],
            [
             0.7777777777777778,
             "#fb9f3a"
            ],
            [
             0.8888888888888888,
             "#fdca26"
            ],
            [
             1,
             "#f0f921"
            ]
           ],
           "sequentialminus": [
            [
             0,
             "#0d0887"
            ],
            [
             0.1111111111111111,
             "#46039f"
            ],
            [
             0.2222222222222222,
             "#7201a8"
            ],
            [
             0.3333333333333333,
             "#9c179e"
            ],
            [
             0.4444444444444444,
             "#bd3786"
            ],
            [
             0.5555555555555556,
             "#d8576b"
            ],
            [
             0.6666666666666666,
             "#ed7953"
            ],
            [
             0.7777777777777778,
             "#fb9f3a"
            ],
            [
             0.8888888888888888,
             "#fdca26"
            ],
            [
             1,
             "#f0f921"
            ]
           ]
          },
          "colorway": [
           "#636efa",
           "#EF553B",
           "#00cc96",
           "#ab63fa",
           "#FFA15A",
           "#19d3f3",
           "#FF6692",
           "#B6E880",
           "#FF97FF",
           "#FECB52"
          ],
          "font": {
           "color": "#2a3f5f"
          },
          "geo": {
           "bgcolor": "white",
           "lakecolor": "white",
           "landcolor": "#E5ECF6",
           "showlakes": true,
           "showland": true,
           "subunitcolor": "white"
          },
          "hoverlabel": {
           "align": "left"
          },
          "hovermode": "closest",
          "mapbox": {
           "style": "light"
          },
          "paper_bgcolor": "white",
          "plot_bgcolor": "#E5ECF6",
          "polar": {
           "angularaxis": {
            "gridcolor": "white",
            "linecolor": "white",
            "ticks": ""
           },
           "bgcolor": "#E5ECF6",
           "radialaxis": {
            "gridcolor": "white",
            "linecolor": "white",
            "ticks": ""
           }
          },
          "scene": {
           "xaxis": {
            "backgroundcolor": "#E5ECF6",
            "gridcolor": "white",
            "gridwidth": 2,
            "linecolor": "white",
            "showbackground": true,
            "ticks": "",
            "zerolinecolor": "white"
           },
           "yaxis": {
            "backgroundcolor": "#E5ECF6",
            "gridcolor": "white",
            "gridwidth": 2,
            "linecolor": "white",
            "showbackground": true,
            "ticks": "",
            "zerolinecolor": "white"
           },
           "zaxis": {
            "backgroundcolor": "#E5ECF6",
            "gridcolor": "white",
            "gridwidth": 2,
            "linecolor": "white",
            "showbackground": true,
            "ticks": "",
            "zerolinecolor": "white"
           }
          },
          "shapedefaults": {
           "line": {
            "color": "#2a3f5f"
           }
          },
          "ternary": {
           "aaxis": {
            "gridcolor": "white",
            "linecolor": "white",
            "ticks": ""
           },
           "baxis": {
            "gridcolor": "white",
            "linecolor": "white",
            "ticks": ""
           },
           "bgcolor": "#E5ECF6",
           "caxis": {
            "gridcolor": "white",
            "linecolor": "white",
            "ticks": ""
           }
          },
          "title": {
           "x": 0.05
          },
          "xaxis": {
           "automargin": true,
           "gridcolor": "white",
           "linecolor": "white",
           "ticks": "",
           "title": {
            "standoff": 15
           },
           "zerolinecolor": "white",
           "zerolinewidth": 2
          },
          "yaxis": {
           "automargin": true,
           "gridcolor": "white",
           "linecolor": "white",
           "ticks": "",
           "title": {
            "standoff": 15
           },
           "zerolinecolor": "white",
           "zerolinewidth": 2
          }
         }
        },
        "title": {
         "text": "Prediction Probability Distribution"
        },
        "xaxis": {
         "anchor": "y",
         "domain": [
          0,
          1
         ],
         "title": {
          "text": "Predicted Probability"
         }
        },
        "yaxis": {
         "anchor": "x",
         "domain": [
          0,
          1
         ],
         "title": {
          "text": "count"
         }
        }
       }
      }
     },
     "metadata": {},
     "output_type": "display_data"
    }
   ],
   "source": [
    "from sklearn.metrics import accuracy_score, roc_auc_score\n",
    "\n",
    "model.eval()\n",
    "logits = model(X_test_tensor)\n",
    "probs = torch.sigmoid(logits).detach().numpy()\n",
    "preds_binary = (probs > 0.5).astype(int)\n",
    "\n",
    "acc = accuracy_score(y_test, preds_binary)\n",
    "roc = roc_auc_score(y_test, probs)\n",
    "print(f\"Accuracy: {acc:.4f}, ROC-AUC: {roc:.4f}\")\n",
    "\n",
    "df_viz = pd.DataFrame({\"Predicted Probability\": probs.flatten(), \"Actual Label\": y_test.flatten()})\n",
    "fig = px.histogram(df_viz, x=\"Predicted Probability\", color=df_viz[\"Actual Label\"].astype(str),\n",
    "                   barmode=\"overlay\", title=\"Prediction Probability Distribution\")\n",
    "fig.show()\n"
   ]
  },
  {
   "cell_type": "code",
   "execution_count": 6,
   "id": "cbf9e13f",
   "metadata": {},
   "outputs": [
    {
     "name": "stdout",
     "output_type": "stream",
     "text": [
      "\n",
      "Fold 1\n",
      "Accuracy: 0.9134, ROC-AUC: 0.6759\n",
      "\n",
      "Fold 2\n",
      "Accuracy: 0.9219, ROC-AUC: 0.7198\n",
      "\n",
      "Fold 3\n",
      "Accuracy: 0.9180, ROC-AUC: 0.6641\n",
      "\n",
      "Fold 4\n",
      "Accuracy: 0.9165, ROC-AUC: 0.7039\n",
      "\n",
      "Fold 5\n",
      "Accuracy: 0.9180, ROC-AUC: 0.6340\n",
      "\n",
      "Avg Accuracy: 0.9176, Avg ROC-AUC: 0.6795\n"
     ]
    }
   ],
   "source": [
    "from sklearn.model_selection import StratifiedKFold\n",
    "\n",
    "skf = StratifiedKFold(n_splits=5, shuffle=True, random_state=42)\n",
    "accuracies, rocs = [], []\n",
    "\n",
    "for fold, (train_idx, val_idx) in enumerate(skf.split(X, y)):\n",
    "    print(f\"\\nFold {fold+1}\")\n",
    "    model = ToxicityNet()\n",
    "    optimizer = optim.Adam(model.parameters(), lr=0.001)\n",
    "    criterion = nn.BCEWithLogitsLoss(pos_weight=pos_weight)\n",
    "\n",
    "    X_train_tensor = torch.tensor(X[train_idx]).float()\n",
    "    y_train_tensor = torch.tensor(y[train_idx]).float().unsqueeze(1)\n",
    "    X_val_tensor = torch.tensor(X[val_idx]).float()\n",
    "    y_val_tensor = torch.tensor(y[val_idx]).float().unsqueeze(1)\n",
    "\n",
    "    for epoch in range(30):\n",
    "        model.train()\n",
    "        optimizer.zero_grad()\n",
    "        out = model(X_train_tensor)\n",
    "        loss = criterion(out, y_train_tensor)\n",
    "        loss.backward()\n",
    "        optimizer.step()\n",
    "\n",
    "    model.eval()\n",
    "    preds = model(X_val_tensor).detach().numpy()\n",
    "    preds_binary = (preds > 0.5).astype(int)\n",
    "\n",
    "    acc = accuracy_score(y[val_idx], preds_binary)\n",
    "    roc = roc_auc_score(y[val_idx], preds)\n",
    "    accuracies.append(acc)\n",
    "    rocs.append(roc)\n",
    "    print(f\"Accuracy: {acc:.4f}, ROC-AUC: {roc:.4f}\")\n",
    "\n",
    "print(f\"\\nAvg Accuracy: {np.mean(accuracies):.4f}, Avg ROC-AUC: {np.mean(rocs):.4f}\")\n"
   ]
  },
  {
   "cell_type": "code",
   "execution_count": 7,
   "id": "0070e8bb",
   "metadata": {},
   "outputs": [
    {
     "name": "stderr",
     "output_type": "stream",
     "text": [
      "[13:03:45] WARNING: not removing hydrogen atom without neighbors\n"
     ]
    }
   ],
   "source": [
    "import torch\n",
    "from rdkit import Chem\n",
    "from torch_geometric.data import Data, DataLoader\n",
    "from torch_geometric.nn import GCNConv, global_mean_pool\n",
    "\n",
    "def atom_to_features_gcn(atom):\n",
    "    return [\n",
    "        atom.GetAtomicNum(),\n",
    "        atom.GetDegree(),\n",
    "        atom.GetFormalCharge(),\n",
    "        atom.GetNumExplicitHs(),\n",
    "        atom.GetNumImplicitHs(),\n",
    "        atom.GetIsAromatic(),\n",
    "        atom.GetMass(),\n",
    "        int(atom.IsInRing()),\n",
    "        int(atom.GetChiralTag()),\n",
    "        int(atom.GetHybridization())\n",
    "    ]\n",
    "\n",
    "\n",
    "def smiles_to_graph(smiles, label):\n",
    "    mol = Chem.MolFromSmiles(smiles)\n",
    "    if mol is None:\n",
    "        return None\n",
    "    atoms = [atom_to_features_gcn(atom) for atom in mol.GetAtoms()]\n",
    "    edges = []\n",
    "    for bond in mol.GetBonds():\n",
    "        i, j = bond.GetBeginAtomIdx(), bond.GetEndAtomIdx()\n",
    "        edges += [[i, j], [j, i]]\n",
    "    return Data(\n",
    "        x=torch.tensor(atoms, dtype=torch.float),\n",
    "        edge_index=torch.tensor(edges, dtype=torch.long).t().contiguous(),\n",
    "        y=torch.tensor([label], dtype=torch.float)\n",
    "    )\n",
    "\n",
    "graph_list = [smiles_to_graph(row['smiles'], row['SR-HSE']) for _, row in df.iterrows()]\n",
    "graph_list = [g for g in graph_list if g is not None]\n"
   ]
  },
  {
   "cell_type": "code",
   "execution_count": 8,
   "id": "423aee98",
   "metadata": {},
   "outputs": [
    {
     "name": "stdout",
     "output_type": "stream",
     "text": [
      "Epoch 1: Loss = 12.3552\n",
      "Epoch 2: Loss = 11.6987\n",
      "Epoch 3: Loss = 11.5087\n",
      "Epoch 4: Loss = 11.3516\n",
      "Epoch 5: Loss = 11.0372\n",
      "Epoch 6: Loss = 10.8276\n",
      "Epoch 7: Loss = 10.6924\n",
      "Epoch 8: Loss = 10.5455\n",
      "Epoch 9: Loss = 10.4237\n",
      "Epoch 10: Loss = 10.1036\n",
      "Epoch 11: Loss = 9.8674\n",
      "Epoch 12: Loss = 9.6282\n",
      "Epoch 13: Loss = 9.5379\n",
      "Epoch 14: Loss = 9.3837\n",
      "Epoch 15: Loss = 9.1642\n",
      "Epoch 16: Loss = 9.0637\n",
      "Epoch 17: Loss = 8.9081\n",
      "Epoch 18: Loss = 8.8186\n",
      "Epoch 19: Loss = 8.7428\n",
      "Epoch 20: Loss = 8.5393\n",
      "Epoch 21: Loss = 8.4428\n",
      "Epoch 22: Loss = 8.3589\n",
      "Epoch 23: Loss = 8.1729\n",
      "Epoch 24: Loss = 8.3536\n",
      "Epoch 25: Loss = 8.0637\n",
      "Epoch 26: Loss = 7.8841\n",
      "Epoch 27: Loss = 7.6743\n",
      "Epoch 28: Loss = 7.5485\n",
      "Epoch 29: Loss = 7.4686\n",
      "Epoch 30: Loss = 7.4676\n",
      "Epoch 31: Loss = 7.4335\n",
      "Epoch 32: Loss = 7.3320\n",
      "Epoch 33: Loss = 7.1483\n",
      "Epoch 34: Loss = 6.8631\n",
      "Epoch 35: Loss = 6.9407\n",
      "Epoch 36: Loss = 6.8493\n",
      "Epoch 37: Loss = 6.8033\n",
      "Epoch 38: Loss = 6.7108\n",
      "Epoch 39: Loss = 6.5782\n",
      "Epoch 40: Loss = 6.7144\n"
     ]
    }
   ],
   "source": [
    "from random import choices\n",
    "from sklearn.model_selection import train_test_split\n",
    "from torch_geometric.loader import DataLoader\n",
    "\n",
    "# 1. Split into train/test\n",
    "train_graphs, test_graphs = train_test_split(\n",
    "    graph_list, test_size=0.2, stratify=[g.y.item() for g in graph_list], random_state=42\n",
    ")\n",
    "\n",
    "# 2. Balance the training set\n",
    "toxic = [g for g in train_graphs if g.y.item() == 1]\n",
    "non_toxic = [g for g in train_graphs if g.y.item() == 0]\n",
    "toxic_upsampled = choices(toxic, k=len(non_toxic))  # upsample to match\n",
    "train_graphs_balanced = non_toxic + toxic_upsampled\n",
    "\n",
    "# 3. Loaders\n",
    "train_loader = DataLoader(train_graphs_balanced, batch_size=32, shuffle=True)\n",
    "test_loader = DataLoader(test_graphs, batch_size=32)\n",
    "\n",
    "# 4. Focal Loss\n",
    "class FocalLoss(nn.Module):\n",
    "    def __init__(self, alpha=0.25, gamma=2.0):\n",
    "        super().__init__()\n",
    "        self.alpha = alpha\n",
    "        self.gamma = gamma\n",
    "\n",
    "    def forward(self, inputs, targets):\n",
    "        BCE = F.binary_cross_entropy_with_logits(inputs, targets, reduction='none')\n",
    "        pt = torch.exp(-BCE)\n",
    "        loss = self.alpha * (1 - pt) ** self.gamma * BCE\n",
    "        return loss.mean()\n",
    "\n",
    "# 5. Rich GCN Model\n",
    "class RichGCNModel(nn.Module):\n",
    "    def __init__(self):\n",
    "        super().__init__()\n",
    "        self.conv1 = GCNConv(10, 64)\n",
    "        self.bn1 = nn.BatchNorm1d(64)\n",
    "        self.conv2 = GCNConv(64, 128)\n",
    "        self.bn2 = nn.BatchNorm1d(128)\n",
    "        self.dropout = nn.Dropout(0.2)\n",
    "        self.fc1 = nn.Linear(128, 64)\n",
    "        self.fc2 = nn.Linear(64, 1)\n",
    "\n",
    "    def forward(self, data):\n",
    "        x, edge_index, batch = data.x, data.edge_index, data.batch\n",
    "        x = F.relu(self.bn1(self.conv1(x, edge_index)))\n",
    "        x = F.relu(self.bn2(self.conv2(x, edge_index)))\n",
    "        x = global_mean_pool(x, batch)\n",
    "        x = self.dropout(x)\n",
    "        x = F.relu(self.fc1(x))\n",
    "        return self.fc2(x)\n",
    "\n",
    "# 6. Training\n",
    "gnn = RichGCNModel()\n",
    "optimizer = optim.Adam(gnn.parameters(), lr=0.001)\n",
    "loss_fn = FocalLoss(alpha=0.25, gamma=2.0)\n",
    "\n",
    "for epoch in range(40):\n",
    "    gnn.train()\n",
    "    total_loss = 0\n",
    "    for batch in train_loader:\n",
    "        optimizer.zero_grad()\n",
    "        out = gnn(batch)\n",
    "        loss = loss_fn(out, batch.y.unsqueeze(1))\n",
    "        loss.backward()\n",
    "        optimizer.step()\n",
    "        total_loss += loss.item()\n",
    "    print(f\"Epoch {epoch+1}: Loss = {total_loss:.4f}\")\n",
    "\n",
    "# 7. Save model\n",
    "torch.save(gnn.state_dict(), \"gcn_model.pt\")\n"
   ]
  },
  {
   "cell_type": "code",
   "execution_count": 9,
   "id": "50d2e4e8",
   "metadata": {},
   "outputs": [
    {
     "name": "stdout",
     "output_type": "stream",
     "text": [
      "Best threshold (F1): 0.498\n",
      "\n",
      "===== GCN Final Evaluation =====\n",
      "Accuracy: 0.9243\n",
      "ROC-AUC: 0.7838\n",
      "              precision    recall  f1-score   support\n",
      "\n",
      "   Non-toxic       0.96      0.96      0.96      1220\n",
      "       Toxic       0.33      0.32      0.33        74\n",
      "\n",
      "    accuracy                           0.92      1294\n",
      "   macro avg       0.65      0.64      0.64      1294\n",
      "weighted avg       0.92      0.92      0.92      1294\n",
      "\n",
      "GCN Model - Accuracy: 0.9243, ROC-AUC: 0.7838\n"
     ]
    },
    {
     "data": {
      "application/vnd.plotly.v1+json": {
       "config": {
        "plotlyServerURL": "https://plot.ly"
       },
       "data": [
        {
         "bingroup": "x",
         "hovertemplate": "color=0.0<br>Predicted Probability=%{x}<br>count=%{y}<extra></extra>",
         "legendgroup": "0.0",
         "marker": {
          "color": "#636efa",
          "opacity": 0.5,
          "pattern": {
           "shape": ""
          }
         },
         "name": "0.0",
         "orientation": "v",
         "showlegend": true,
         "type": "histogram",
         "x": {
          "bdata": "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",
          "dtype": "f4"
         },
         "xaxis": "x",
         "yaxis": "y"
        },
        {
         "bingroup": "x",
         "hovertemplate": "color=1.0<br>Predicted Probability=%{x}<br>count=%{y}<extra></extra>",
         "legendgroup": "1.0",
         "marker": {
          "color": "#EF553B",
          "opacity": 0.5,
          "pattern": {
           "shape": ""
          }
         },
         "name": "1.0",
         "orientation": "v",
         "showlegend": true,
         "type": "histogram",
         "x": {
          "bdata": "IfXuPmeM8j74eHo+FrmWPm1DTz6n7gU/MZDrPaQypj4ftpY++14YP/sM1z3Zxps+IfUTP91rZz5aUQk/REUAPzKaST5uDBg/5c+aPZzEQTzjH7I+EpOOPkHTQT5LK8o+EzwgP+zhMT/MYRU/gcW7PiyJ3j713gs+2E1WP4Id3j6MUSU/doT/PtMdIT8mSLo+7sbfPlxqGz+jTgA/ZubMPQD68z5Mlrs+vHMWPi6mIj/j2iE+lgXdPm750j4065Q+c0/lPgkEFj7Dwbo+eswZPtdcxT400Rc/GQ4DP9R9ST+q+k4+dBJCPnzAZz6anB0+qdrAPmi3hD4UEps+RCatPg8hlT4RTyg/iAz/Pie1Jz/sfuY9hScnP9UDIz54gks98HwxP1tACT8=",
          "dtype": "f4"
         },
         "xaxis": "x",
         "yaxis": "y"
        }
       ],
       "layout": {
        "barmode": "overlay",
        "legend": {
         "title": {
          "text": "color"
         },
         "tracegroupgap": 0
        },
        "template": {
         "data": {
          "bar": [
           {
            "error_x": {
             "color": "#2a3f5f"
            },
            "error_y": {
             "color": "#2a3f5f"
            },
            "marker": {
             "line": {
              "color": "#E5ECF6",
              "width": 0.5
             },
             "pattern": {
              "fillmode": "overlay",
              "size": 10,
              "solidity": 0.2
             }
            },
            "type": "bar"
           }
          ],
          "barpolar": [
           {
            "marker": {
             "line": {
              "color": "#E5ECF6",
              "width": 0.5
             },
             "pattern": {
              "fillmode": "overlay",
              "size": 10,
              "solidity": 0.2
             }
            },
            "type": "barpolar"
           }
          ],
          "carpet": [
           {
            "aaxis": {
             "endlinecolor": "#2a3f5f",
             "gridcolor": "white",
             "linecolor": "white",
             "minorgridcolor": "white",
             "startlinecolor": "#2a3f5f"
            },
            "baxis": {
             "endlinecolor": "#2a3f5f",
             "gridcolor": "white",
             "linecolor": "white",
             "minorgridcolor": "white",
             "startlinecolor": "#2a3f5f"
            },
            "type": "carpet"
           }
          ],
          "choropleth": [
           {
            "colorbar": {
             "outlinewidth": 0,
             "ticks": ""
            },
            "type": "choropleth"
           }
          ],
          "contour": [
           {
            "colorbar": {
             "outlinewidth": 0,
             "ticks": ""
            },
            "colorscale": [
             [
              0,
              "#0d0887"
             ],
             [
              0.1111111111111111,
              "#46039f"
             ],
             [
              0.2222222222222222,
              "#7201a8"
             ],
             [
              0.3333333333333333,
              "#9c179e"
             ],
             [
              0.4444444444444444,
              "#bd3786"
             ],
             [
              0.5555555555555556,
              "#d8576b"
             ],
             [
              0.6666666666666666,
              "#ed7953"
             ],
             [
              0.7777777777777778,
              "#fb9f3a"
             ],
             [
              0.8888888888888888,
              "#fdca26"
             ],
             [
              1,
              "#f0f921"
             ]
            ],
            "type": "contour"
           }
          ],
          "contourcarpet": [
           {
            "colorbar": {
             "outlinewidth": 0,
             "ticks": ""
            },
            "type": "contourcarpet"
           }
          ],
          "heatmap": [
           {
            "colorbar": {
             "outlinewidth": 0,
             "ticks": ""
            },
            "colorscale": [
             [
              0,
              "#0d0887"
             ],
             [
              0.1111111111111111,
              "#46039f"
             ],
             [
              0.2222222222222222,
              "#7201a8"
             ],
             [
              0.3333333333333333,
              "#9c179e"
             ],
             [
              0.4444444444444444,
              "#bd3786"
             ],
             [
              0.5555555555555556,
              "#d8576b"
             ],
             [
              0.6666666666666666,
              "#ed7953"
             ],
             [
              0.7777777777777778,
              "#fb9f3a"
             ],
             [
              0.8888888888888888,
              "#fdca26"
             ],
             [
              1,
              "#f0f921"
             ]
            ],
            "type": "heatmap"
           }
          ],
          "histogram": [
           {
            "marker": {
             "pattern": {
              "fillmode": "overlay",
              "size": 10,
              "solidity": 0.2
             }
            },
            "type": "histogram"
           }
          ],
          "histogram2d": [
           {
            "colorbar": {
             "outlinewidth": 0,
             "ticks": ""
            },
            "colorscale": [
             [
              0,
              "#0d0887"
             ],
             [
              0.1111111111111111,
              "#46039f"
             ],
             [
              0.2222222222222222,
              "#7201a8"
             ],
             [
              0.3333333333333333,
              "#9c179e"
             ],
             [
              0.4444444444444444,
              "#bd3786"
             ],
             [
              0.5555555555555556,
              "#d8576b"
             ],
             [
              0.6666666666666666,
              "#ed7953"
             ],
             [
              0.7777777777777778,
              "#fb9f3a"
             ],
             [
              0.8888888888888888,
              "#fdca26"
             ],
             [
              1,
              "#f0f921"
             ]
            ],
            "type": "histogram2d"
           }
          ],
          "histogram2dcontour": [
           {
            "colorbar": {
             "outlinewidth": 0,
             "ticks": ""
            },
            "colorscale": [
             [
              0,
              "#0d0887"
             ],
             [
              0.1111111111111111,
              "#46039f"
             ],
             [
              0.2222222222222222,
              "#7201a8"
             ],
             [
              0.3333333333333333,
              "#9c179e"
             ],
             [
              0.4444444444444444,
              "#bd3786"
             ],
             [
              0.5555555555555556,
              "#d8576b"
             ],
             [
              0.6666666666666666,
              "#ed7953"
             ],
             [
              0.7777777777777778,
              "#fb9f3a"
             ],
             [
              0.8888888888888888,
              "#fdca26"
             ],
             [
              1,
              "#f0f921"
             ]
            ],
            "type": "histogram2dcontour"
           }
          ],
          "mesh3d": [
           {
            "colorbar": {
             "outlinewidth": 0,
             "ticks": ""
            },
            "type": "mesh3d"
           }
          ],
          "parcoords": [
           {
            "line": {
             "colorbar": {
              "outlinewidth": 0,
              "ticks": ""
             }
            },
            "type": "parcoords"
           }
          ],
          "pie": [
           {
            "automargin": true,
            "type": "pie"
           }
          ],
          "scatter": [
           {
            "fillpattern": {
             "fillmode": "overlay",
             "size": 10,
             "solidity": 0.2
            },
            "type": "scatter"
           }
          ],
          "scatter3d": [
           {
            "line": {
             "colorbar": {
              "outlinewidth": 0,
              "ticks": ""
             }
            },
            "marker": {
             "colorbar": {
              "outlinewidth": 0,
              "ticks": ""
             }
            },
            "type": "scatter3d"
           }
          ],
          "scattercarpet": [
           {
            "marker": {
             "colorbar": {
              "outlinewidth": 0,
              "ticks": ""
             }
            },
            "type": "scattercarpet"
           }
          ],
          "scattergeo": [
           {
            "marker": {
             "colorbar": {
              "outlinewidth": 0,
              "ticks": ""
             }
            },
            "type": "scattergeo"
           }
          ],
          "scattergl": [
           {
            "marker": {
             "colorbar": {
              "outlinewidth": 0,
              "ticks": ""
             }
            },
            "type": "scattergl"
           }
          ],
          "scattermap": [
           {
            "marker": {
             "colorbar": {
              "outlinewidth": 0,
              "ticks": ""
             }
            },
            "type": "scattermap"
           }
          ],
          "scattermapbox": [
           {
            "marker": {
             "colorbar": {
              "outlinewidth": 0,
              "ticks": ""
             }
            },
            "type": "scattermapbox"
           }
          ],
          "scatterpolar": [
           {
            "marker": {
             "colorbar": {
              "outlinewidth": 0,
              "ticks": ""
             }
            },
            "type": "scatterpolar"
           }
          ],
          "scatterpolargl": [
           {
            "marker": {
             "colorbar": {
              "outlinewidth": 0,
              "ticks": ""
             }
            },
            "type": "scatterpolargl"
           }
          ],
          "scatterternary": [
           {
            "marker": {
             "colorbar": {
              "outlinewidth": 0,
              "ticks": ""
             }
            },
            "type": "scatterternary"
           }
          ],
          "surface": [
           {
            "colorbar": {
             "outlinewidth": 0,
             "ticks": ""
            },
            "colorscale": [
             [
              0,
              "#0d0887"
             ],
             [
              0.1111111111111111,
              "#46039f"
             ],
             [
              0.2222222222222222,
              "#7201a8"
             ],
             [
              0.3333333333333333,
              "#9c179e"
             ],
             [
              0.4444444444444444,
              "#bd3786"
             ],
             [
              0.5555555555555556,
              "#d8576b"
             ],
             [
              0.6666666666666666,
              "#ed7953"
             ],
             [
              0.7777777777777778,
              "#fb9f3a"
             ],
             [
              0.8888888888888888,
              "#fdca26"
             ],
             [
              1,
              "#f0f921"
             ]
            ],
            "type": "surface"
           }
          ],
          "table": [
           {
            "cells": {
             "fill": {
              "color": "#EBF0F8"
             },
             "line": {
              "color": "white"
             }
            },
            "header": {
             "fill": {
              "color": "#C8D4E3"
             },
             "line": {
              "color": "white"
             }
            },
            "type": "table"
           }
          ]
         },
         "layout": {
          "annotationdefaults": {
           "arrowcolor": "#2a3f5f",
           "arrowhead": 0,
           "arrowwidth": 1
          },
          "autotypenumbers": "strict",
          "coloraxis": {
           "colorbar": {
            "outlinewidth": 0,
            "ticks": ""
           }
          },
          "colorscale": {
           "diverging": [
            [
             0,
             "#8e0152"
            ],
            [
             0.1,
             "#c51b7d"
            ],
            [
             0.2,
             "#de77ae"
            ],
            [
             0.3,
             "#f1b6da"
            ],
            [
             0.4,
             "#fde0ef"
            ],
            [
             0.5,
             "#f7f7f7"
            ],
            [
             0.6,
             "#e6f5d0"
            ],
            [
             0.7,
             "#b8e186"
            ],
            [
             0.8,
             "#7fbc41"
            ],
            [
             0.9,
             "#4d9221"
            ],
            [
             1,
             "#276419"
            ]
           ],
           "sequential": [
            [
             0,
             "#0d0887"
            ],
            [
             0.1111111111111111,
             "#46039f"
            ],
            [
             0.2222222222222222,
             "#7201a8"
            ],
            [
             0.3333333333333333,
             "#9c179e"
            ],
            [
             0.4444444444444444,
             "#bd3786"
            ],
            [
             0.5555555555555556,
             "#d8576b"
            ],
            [
             0.6666666666666666,
             "#ed7953"
            ],
            [
             0.7777777777777778,
             "#fb9f3a"
            ],
            [
             0.8888888888888888,
             "#fdca26"
            ],
            [
             1,
             "#f0f921"
            ]
           ],
           "sequentialminus": [
            [
             0,
             "#0d0887"
            ],
            [
             0.1111111111111111,
             "#46039f"
            ],
            [
             0.2222222222222222,
             "#7201a8"
            ],
            [
             0.3333333333333333,
             "#9c179e"
            ],
            [
             0.4444444444444444,
             "#bd3786"
            ],
            [
             0.5555555555555556,
             "#d8576b"
            ],
            [
             0.6666666666666666,
             "#ed7953"
            ],
            [
             0.7777777777777778,
             "#fb9f3a"
            ],
            [
             0.8888888888888888,
             "#fdca26"
            ],
            [
             1,
             "#f0f921"
            ]
           ]
          },
          "colorway": [
           "#636efa",
           "#EF553B",
           "#00cc96",
           "#ab63fa",
           "#FFA15A",
           "#19d3f3",
           "#FF6692",
           "#B6E880",
           "#FF97FF",
           "#FECB52"
          ],
          "font": {
           "color": "#2a3f5f"
          },
          "geo": {
           "bgcolor": "white",
           "lakecolor": "white",
           "landcolor": "#E5ECF6",
           "showlakes": true,
           "showland": true,
           "subunitcolor": "white"
          },
          "hoverlabel": {
           "align": "left"
          },
          "hovermode": "closest",
          "mapbox": {
           "style": "light"
          },
          "paper_bgcolor": "white",
          "plot_bgcolor": "#E5ECF6",
          "polar": {
           "angularaxis": {
            "gridcolor": "white",
            "linecolor": "white",
            "ticks": ""
           },
           "bgcolor": "#E5ECF6",
           "radialaxis": {
            "gridcolor": "white",
            "linecolor": "white",
            "ticks": ""
           }
          },
          "scene": {
           "xaxis": {
            "backgroundcolor": "#E5ECF6",
            "gridcolor": "white",
            "gridwidth": 2,
            "linecolor": "white",
            "showbackground": true,
            "ticks": "",
            "zerolinecolor": "white"
           },
           "yaxis": {
            "backgroundcolor": "#E5ECF6",
            "gridcolor": "white",
            "gridwidth": 2,
            "linecolor": "white",
            "showbackground": true,
            "ticks": "",
            "zerolinecolor": "white"
           },
           "zaxis": {
            "backgroundcolor": "#E5ECF6",
            "gridcolor": "white",
            "gridwidth": 2,
            "linecolor": "white",
            "showbackground": true,
            "ticks": "",
            "zerolinecolor": "white"
           }
          },
          "shapedefaults": {
           "line": {
            "color": "#2a3f5f"
           }
          },
          "ternary": {
           "aaxis": {
            "gridcolor": "white",
            "linecolor": "white",
            "ticks": ""
           },
           "baxis": {
            "gridcolor": "white",
            "linecolor": "white",
            "ticks": ""
           },
           "bgcolor": "#E5ECF6",
           "caxis": {
            "gridcolor": "white",
            "linecolor": "white",
            "ticks": ""
           }
          },
          "title": {
           "x": 0.05
          },
          "xaxis": {
           "automargin": true,
           "gridcolor": "white",
           "linecolor": "white",
           "ticks": "",
           "title": {
            "standoff": 15
           },
           "zerolinecolor": "white",
           "zerolinewidth": 2
          },
          "yaxis": {
           "automargin": true,
           "gridcolor": "white",
           "linecolor": "white",
           "ticks": "",
           "title": {
            "standoff": 15
           },
           "zerolinecolor": "white",
           "zerolinewidth": 2
          }
         }
        },
        "title": {
         "text": "GCN Model - Prediction Probability Distribution"
        },
        "xaxis": {
         "anchor": "y",
         "domain": [
          0,
          1
         ],
         "title": {
          "text": "Predicted Probability"
         }
        },
        "yaxis": {
         "anchor": "x",
         "domain": [
          0,
          1
         ],
         "title": {
          "text": "count"
         }
        }
       }
      }
     },
     "metadata": {},
     "output_type": "display_data"
    }
   ],
   "source": [
    "import numpy as np\n",
    "import pandas as pd\n",
    "import plotly.express as px\n",
    "import torch\n",
    "from sklearn.metrics import accuracy_score, roc_auc_score\n",
    "\n",
    "# Evaluate the GCN model\n",
    "from sklearn.metrics import precision_recall_curve, classification_report\n",
    "\n",
    "gnn.eval()\n",
    "all_preds, all_labels = [], []\n",
    "\n",
    "with torch.no_grad():\n",
    "    for batch in test_loader:\n",
    "        out = gnn(batch)\n",
    "        probs = torch.sigmoid(out)\n",
    "        all_preds.extend(probs.cpu().numpy())\n",
    "        all_labels.extend(batch.y.cpu().numpy())\n",
    "\n",
    "all_preds = np.array(all_preds).flatten()\n",
    "all_labels = np.array(all_labels).flatten()\n",
    "\n",
    "precision, recall, thresholds = precision_recall_curve(all_labels, all_preds)\n",
    "f1_scores = 2 * (precision * recall) / (precision + recall + 1e-8)\n",
    "best_threshold = thresholds[np.argmax(f1_scores)]\n",
    "\n",
    "# 🔽 Save threshold for use in Streamlit/Dash\n",
    "np.save(\"gcn_best_threshold.npy\", best_threshold)\n",
    "print(f\"Best threshold (F1): {best_threshold:.3f}\")\n",
    "\n",
    "preds_binary = (all_preds > best_threshold).astype(int)\n",
    "\n",
    "print(\"\\n===== GCN Final Evaluation =====\")\n",
    "print(f\"Accuracy: {accuracy_score(all_labels, preds_binary):.4f}\")\n",
    "print(f\"ROC-AUC: {roc_auc_score(all_labels, all_preds):.4f}\")\n",
    "print(classification_report(all_labels, preds_binary, target_names=[\"Non-toxic\", \"Toxic\"]))\n",
    "\n",
    "\n",
    "#all_preds = np.array(all_preds)\n",
    "#all_labels = np.array(all_labels)\n",
    "#preds_binary = (all_preds > 0.5).astype(int)\n",
    "\n",
    "gnn_acc = accuracy_score(all_labels, preds_binary)\n",
    "gnn_roc = roc_auc_score(all_labels, all_preds)\n",
    "print(f\"GCN Model - Accuracy: {gnn_acc:.4f}, ROC-AUC: {gnn_roc:.4f}\")\n",
    "\n",
    "# Visualization\n",
    "df_gnn_viz = pd.DataFrame({\n",
    "    \"Predicted Probability\": all_preds.flatten(),\n",
    "    \"Actual Label\": all_labels.flatten()\n",
    "})\n",
    "fig_gnn = px.histogram(df_gnn_viz, x=\"Predicted Probability\", \n",
    "                       color=df_gnn_viz[\"Actual Label\"].astype(str),\n",
    "                       barmode=\"overlay\", \n",
    "                       title=\"GCN Model - Prediction Probability Distribution\")\n",
    "fig_gnn.show()\n"
   ]
  },
  {
   "cell_type": "code",
   "execution_count": 10,
   "id": "d15e4039",
   "metadata": {},
   "outputs": [
    {
     "data": {
      "image/png": "[encoded data removed]",
      "text/plain": [
       "<Figure size 800x600 with 1 Axes>"
      ]
     },
     "metadata": {},
     "output_type": "display_data"
    },
    {
     "data": {
      "image/png": "[encoded data removed]",
      "text/plain": [
       "<Figure size 800x600 with 1 Axes>"
      ]
     },
     "metadata": {},
     "output_type": "display_data"
    }
   ],
   "source": [
    "from sklearn.metrics import roc_curve, precision_recall_curve\n",
    "\n",
    "# ROC Curve\n",
    "fpr, tpr, _ = roc_curve(all_labels, all_preds)\n",
    "plt.figure(figsize=(8, 6))\n",
    "plt.plot(fpr, tpr, label=f'ROC-AUC: {gnn_roc:.3f}', linewidth=2)\n",
    "plt.plot([0, 1], [0, 1], 'k--', label='Random')\n",
    "plt.xlabel(\"False Positive Rate\")\n",
    "plt.ylabel(\"True Positive Rate\")\n",
    "plt.title(\"GCN Model - ROC Curve\")\n",
    "plt.legend()\n",
    "plt.grid(True)\n",
    "plt.show()\n",
    "\n",
    "# Precision-Recall Curve\n",
    "precision, recall, _ = precision_recall_curve(all_labels, all_preds)\n",
    "plt.figure(figsize=(8, 6))\n",
    "plt.plot(recall, precision, label=f\"PR-AUC: {roc_auc_score(all_labels, all_preds):.3f}\", linewidth=2)\n",
    "plt.xlabel(\"Recall\")\n",
    "plt.ylabel(\"Precision\")\n",
    "plt.title(\"GCN Model - Precision-Recall Curve\")\n",
    "plt.legend()\n",
    "plt.grid(True)\n",
    "plt.show()\n"
   ]
  },
  {
   "cell_type": "code",
   "execution_count": 11,
   "id": "f619a4e5",
   "metadata": {},
   "outputs": [
    {
     "data": {
      "text/html": [
       "\n",
       "        <iframe\n",
       "            width=\"100%\"\n",
       "            height=\"650\"\n",
       "            src=\"http://127.0.0.1:8050/\"\n",
       "            frameborder=\"0\"\n",
       "            allowfullscreen\n",
       "            \n",
       "        ></iframe>\n",
       "        "
      ],
      "text/plain": [
       "<IPython.lib.display.IFrame at 0x14b862f4760>"
      ]
     },
     "metadata": {},
     "output_type": "display_data"
    }
   ],
   "source": [
    "from dash import Dash, html, dcc, Input, Output\n",
    "import dash\n",
    "import plotly.express as px\n",
    "import numpy as np\n",
    "import torch\n",
    "import torch.nn as nn\n",
    "import torch.nn.functional as F\n",
    "from rdkit import Chem\n",
    "from rdkit.Chem import AllChem, rdMolDescriptors\n",
    "from torch_geometric.data import Data\n",
    "from torch_geometric.nn import GCNConv, global_mean_pool\n",
    "import threading, webbrowser, nest_asyncio\n",
    "nest_asyncio.apply()\n",
    "\n",
    "# ============================\n",
    "# Fingerprint-based MLP Model\n",
    "# ============================\n",
    "class ToxicityNet(nn.Module):\n",
    "    def __init__(self):\n",
    "        super().__init__()\n",
    "        self.model = nn.Sequential(\n",
    "            nn.Linear(1024, 512),\n",
    "            nn.ReLU(),\n",
    "            nn.Dropout(0.3),\n",
    "            nn.Linear(512, 128),\n",
    "            nn.ReLU(),\n",
    "            nn.Linear(128, 1)\n",
    "        )\n",
    "    def forward(self, x):\n",
    "        return self.model(x)\n",
    "\n",
    "model = ToxicityNet()\n",
    "try:\n",
    "    model.load_state_dict(torch.load(\"tox_model.pt\"))\n",
    "    model.eval()\n",
    "    model_loaded = True\n",
    "except:\n",
    "    model_loaded = False\n",
    "\n",
    "fp_generator = GetMorganGenerator(radius=2, fpSize=1024)\n",
    "def predict_toxicity(smiles):\n",
    "    if not model_loaded:\n",
    "        return \"Model not loaded\", 0.0\n",
    "    try:\n",
    "        mol = Chem.MolFromSmiles(smiles)\n",
    "        if mol is None:\n",
    "            return \"Invalid SMILES\", 0.0\n",
    "        fp = fp_generator.GetFingerprint(mol)\n",
    "        fp_array = np.array(fp).reshape(1, -1)\n",
    "        with torch.no_grad():\n",
    "            logits = model(torch.tensor(fp_array).float())\n",
    "            prob = torch.sigmoid(logits).item()\n",
    "        return (\"Toxic\" if prob > 0.5 else \"Non-toxic\"), prob\n",
    "    except Exception as e:\n",
    "        return f\"Error: {str(e)}\", 0.0\n",
    "\n",
    "# ============================\n",
    "# GCN Model\n",
    "# ============================\n",
    "class RichGCNModel(nn.Module):\n",
    "    def __init__(self):\n",
    "        super().__init__()\n",
    "        self.conv1 = GCNConv(10, 64)\n",
    "        self.bn1 = nn.BatchNorm1d(64)\n",
    "        self.conv2 = GCNConv(64, 128)\n",
    "        self.bn2 = nn.BatchNorm1d(128)\n",
    "        self.dropout = nn.Dropout(0.2)\n",
    "        self.fc1 = nn.Linear(128, 64)\n",
    "        self.fc2 = nn.Linear(64, 1)\n",
    "\n",
    "    def forward(self, data):\n",
    "        x, edge_index, batch = data.x, data.edge_index, data.batch\n",
    "        x = F.relu(self.bn1(self.conv1(x, edge_index)))\n",
    "        x = F.relu(self.bn2(self.conv2(x, edge_index)))\n",
    "        x = global_mean_pool(x, batch)\n",
    "        x = self.dropout(x)\n",
    "        x = F.relu(self.fc1(x))\n",
    "        return self.fc2(x)\n",
    "\n",
    "\n",
    "gcn_model = RichGCNModel()\n",
    "try:\n",
    "    gcn_model.load_state_dict(torch.load(\"gcn_model.pt\"))\n",
    "    gcn_model.eval()\n",
    "    gcn_model_loaded = True\n",
    "except:\n",
    "    gcn_model_loaded = False\n",
    "\n",
    "def atom_to_features_gcn(atom):\n",
    "    return [\n",
    "        atom.GetAtomicNum(),\n",
    "        atom.GetDegree(),\n",
    "        atom.GetFormalCharge(),\n",
    "        atom.GetNumExplicitHs(),\n",
    "        atom.GetNumImplicitHs(),\n",
    "        atom.GetIsAromatic(),\n",
    "        atom.GetMass(),\n",
    "        int(atom.IsInRing()),\n",
    "        int(atom.GetChiralTag()),\n",
    "        int(atom.GetHybridization())\n",
    "    ]\n",
    "\n",
    "def smiles_to_graph_gcn(smiles):\n",
    "    mol = Chem.MolFromSmiles(smiles)\n",
    "    if mol is None:\n",
    "        return None\n",
    "    atoms = [atom_to_features_gcn(atom) for atom in mol.GetAtoms()]\n",
    "    edges = []\n",
    "    for bond in mol.GetBonds():\n",
    "        i, j = bond.GetBeginAtomIdx(), bond.GetEndAtomIdx()\n",
    "        edges += [[i, j], [j, i]]\n",
    "    if not edges:\n",
    "        edges = [[0, 0]]\n",
    "    return Data(\n",
    "        x=torch.tensor(atoms, dtype=torch.float),\n",
    "        edge_index=torch.tensor(edges, dtype=torch.long).t().contiguous(),\n",
    "        batch=torch.zeros(len(atoms), dtype=torch.long)\n",
    "    )\n",
    "\n",
    "def predict_toxicity_gcn(smiles):\n",
    "    if not gcn_model_loaded:\n",
    "        return \"GCN Model not loaded\", 0.0\n",
    "    try:\n",
    "        graph_data = smiles_to_graph_gcn(smiles)\n",
    "        if graph_data is None:\n",
    "            return \"Invalid SMILES\", 0.0\n",
    "        with torch.no_grad():\n",
    "            logits = gcn_model(graph_data)\n",
    "            prob = torch.sigmoid(logits).item()\n",
    "        return (\"Toxic\" if prob > best_threshold else \"Non-toxic\"), prob\n",
    "    except Exception as e:\n",
    "        return f\"Error: {str(e)}\", 0.0\n",
    "\n",
    "# ============================\n",
    "# Dash App with Tabs\n",
    "# ============================\n",
    "app = Dash(__name__, suppress_callback_exceptions=True)\n",
    "app.title = \"Drug Toxicity Prediction\"\n",
    "\n",
    "# Histogram samples\n",
    "fig_sample_fp = px.histogram(\n",
    "    x=np.random.beta(2, 5, 100),\n",
    "    color=np.random.binomial(1, 0.3, 100).astype(str),\n",
    "    nbins=20,\n",
    "    title=\"Sample Prediction Probability Distribution\",\n",
    "    labels={\"x\": \"Predicted Probability\", \"color\": \"Actual Label\"}\n",
    ")\n",
    "\n",
    "fig_sample_gcn = px.histogram(\n",
    "    x=np.random.beta(2, 5, 100),\n",
    "    color=np.random.binomial(1, 0.3, 100).astype(str),\n",
    "    nbins=20,\n",
    "    title=\"GCN Model - Sample Prediction Probability Distribution\",\n",
    "    labels={\"x\": \"Predicted Probability\", \"color\": \"Actual Label\"}\n",
    ")\n",
    "\n",
    "# App layout with Tabs\n",
    "app.layout = html.Div([\n",
    "    html.H1(\"🧪 Drug Toxicity Prediction Dashboard\", style={\"textAlign\": \"center\", \"color\": \"#2c3e50\"}),\n",
    "    dcc.Tabs(id='tabs', value='tab-fp', children=[\n",
    "        dcc.Tab(label='Fingerprint Model', value='tab-fp'),\n",
    "        dcc.Tab(label='GCN Model', value='tab-gcn'),\n",
    "    ]),\n",
    "    html.Div(id='tab-content')\n",
    "])\n",
    "\n",
    "# ============================\n",
    "# Tab Content Callbacks\n",
    "# ============================\n",
    "@app.callback(Output('tab-content', 'children'), Input('tabs', 'value'))\n",
    "def render_tab(tab):\n",
    "    if tab == 'tab-fp':\n",
    "        return html.Div([\n",
    "            html.Div([dcc.Graph(figure=fig_sample_fp)], style={\"width\": \"48%\", \"display\": \"inline-block\"}),\n",
    "            html.Div([                html.H3(\"Make a Prediction\"),\n",
    "                html.Label(\"Enter SMILES string:\"),\n",
    "                dcc.Input(id='fp-smiles', value='CCO', type='text', debounce=True,\n",
    "                          style={\"width\": \"100%\", \"padding\": \"10px\", \"marginBottom\": \"10px\"}),\n",
    "                html.Div(id='fp-output', style={\"marginTop\": \"1rem\", \"fontSize\": \"18px\", \"padding\": \"10px\"}),\n",
    "                html.Div(id='fp-prob', style={\"marginTop\": \"1rem\", \"fontSize\": \"16px\"}),\n",
    "                html.Hr(),\n",
    "                html.H4(\"Example SMILES:\"), html.P(\"• CCO\"), html.P(\"• CC(=O)O\"), html.P(\"• c1ccccc1\"),\n",
    "            ], style={\"width\": \"48%\", \"float\": \"right\", \"padding\": \"20px\"}),\n",
    "            html.Div(id='fp-info', style={\"marginTop\": \"2rem\", \"padding\": \"20px\"})\n",
    "        ])\n",
    "    elif tab == 'tab-gcn':\n",
    "        return html.Div([\n",
    "            html.Div([dcc.Graph(figure=fig_sample_gcn)], style={\"width\": \"48%\", \"display\": \"inline-block\"}),\n",
    "            html.Div([\n",
    "                html.H3(\"🔬 Graph Neural Network Prediction\"),\n",
    "                html.P(\"This model uses molecular graph structure and atom features\", style={\"fontSize\": \"14px\"}),\n",
    "                html.Label(\"Enter SMILES string:\"),\n",
    "                dcc.Input(id='gcn-smiles', value='CCO', type='text', debounce=True,\n",
    "                          style={\"width\": \"100%\", \"padding\": \"10px\", \"marginBottom\": \"10px\"}),\n",
    "                html.Div(id='gcn-output', style={\"marginTop\": \"1rem\", \"fontSize\": \"18px\", \"padding\": \"10px\"}),\n",
    "                html.Div(id='gcn-prob', style={\"marginTop\": \"1rem\", \"fontSize\": \"16px\"}),\n",
    "                html.Hr(),\n",
    "                html.H4(\"Test Molecules:\"), html.P(\"• c1ccc(cc1)N\"), html.P(\"• C=CC=O\"),\n",
    "            ], style={\"width\": \"48%\", \"float\": \"right\", \"padding\": \"20px\"}),\n",
    "            html.Div(id='gcn-info', style={\"marginTop\": \"2rem\", \"padding\": \"20px\"})\n",
    "        ])\n",
    "\n",
    "# ============================\n",
    "# Callback for Fingerprint Tab\n",
    "# ============================\n",
    "@app.callback(\n",
    "    [Output('fp-output', 'children'), Output('fp-output', 'style'),\n",
    "     Output('fp-prob', 'children'), Output('fp-info', 'children')],\n",
    "    Input('fp-smiles', 'value')\n",
    ")\n",
    "def update_fp_tab(smiles):\n",
    "    if not smiles:\n",
    "        return \"Enter SMILES\", {\"color\": \"gray\"}, \"\", \"\"\n",
    "    result, prob = predict_toxicity(smiles)\n",
    "    color = \"green\" if \"Non\" in result else \"red\" if \"Toxic\" in result else \"orange\"\n",
    "    info = html.Div()\n",
    "    try:\n",
    "        mol = Chem.MolFromSmiles(smiles)\n",
    "        if mol:\n",
    "            info = html.Div([\n",
    "                html.H4(\"Molecule Info:\"),\n",
    "                html.P(f\"Formula: {rdMolDescriptors.CalcMolFormula(mol)}\"),\n",
    "                html.P(f\"Weight: {rdMolDescriptors.CalcExactMolWt(mol):.2f}\"),\n",
    "                html.P(f\"Atoms: {mol.GetNumAtoms()}\"),\n",
    "                html.P(f\"Bonds: {mol.GetNumBonds()}\")\n",
    "            ])\n",
    "    except: pass\n",
    "    return result, {\"color\": color, \"fontWeight\": \"bold\"}, f\"Probability: {prob:.3f}\", info\n",
    "\n",
    "# ============================\n",
    "# Callback for GCN Tab\n",
    "# ============================\n",
    "@app.callback(\n",
    "    [Output('gcn-output', 'children'), Output('gcn-output', 'style'),\n",
    "     Output('gcn-prob', 'children'), Output('gcn-info', 'children')],\n",
    "    Input('gcn-smiles', 'value')\n",
    ")\n",
    "def update_gcn_tab(smiles):\n",
    "    if not smiles:\n",
    "        return \"Enter SMILES\", {\"color\": \"gray\"}, \"\", \"\"\n",
    "    result, prob = predict_toxicity_gcn(smiles)\n",
    "    color = \"green\" if \"Non\" in result else \"red\" if \"Toxic\" in result else \"orange\"\n",
    "    info = html.Div()\n",
    "    try:\n",
    "        mol = Chem.MolFromSmiles(smiles)\n",
    "        graph_data = smiles_to_graph_gcn(smiles)\n",
    "        if mol and graph_data:\n",
    "            info = html.Div([\n",
    "                html.H4(\"Graph Info:\"),\n",
    "                html.P(f\"Formula: {rdMolDescriptors.CalcMolFormula(mol)}\"),\n",
    "                html.P(f\"Weight: {rdMolDescriptors.CalcExactMolWt(mol):.2f}\"),\n",
    "                html.P(f\"Atoms: {mol.GetNumAtoms()}\"),\n",
    "                html.P(f\"Bonds: {mol.GetNumBonds()}\"),\n",
    "                html.P(f\"Edges: {graph_data.edge_index.shape[1]}\"),\n",
    "                html.P(f\"Node Features: 5\")\n",
    "            ])\n",
    "    except: pass\n",
    "    return result, {\"color\": color, \"fontWeight\": \"bold\"}, f\"GCN Probability: {prob:.3f}\", info\n",
    "\n",
    "# ============================\n",
    "# Run App\n",
    "# ============================\n",
    "def open_browser():\n",
    "    webbrowser.open_new(\"http://127.0.0.1:8050\")\n",
    "threading.Timer(1, open_browser).start()\n",
    "\n",
    "if __name__ == '__main__':\n",
    "    app.run(debug=True, port=8050)\n"
   ]
  },
  {
   "cell_type": "code",
   "execution_count": null,
   "id": "dbbddde7",
   "metadata": {},
   "outputs": [],
   "source": []
  }
 ],
 "metadata": {
  "kernelspec": {
   "display_name": "drug_env",
   "language": "python",
   "name": "python3"
  },
  "language_info": {
   "codemirror_mode": {
    "name": "ipython",
    "version": 3
   },
   "file_extension": ".py",
   "mimetype": "text/x-python",
   "name": "python",
   "nbconvert_exporter": "python",
   "pygments_lexer": "ipython3",
   "version": "3.10.18"
  }
 },
 "nbformat": 4,
 "nbformat_minor": 5
}
